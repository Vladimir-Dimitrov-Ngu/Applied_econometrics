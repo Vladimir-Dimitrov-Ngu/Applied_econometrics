{
 "cells": [
  {
   "cell_type": "code",
   "execution_count": 2,
   "id": "f543aa60",
   "metadata": {},
   "outputs": [
    {
     "name": "stdout",
     "output_type": "stream",
     "text": [
      "Collecting pyreadstat\n",
      "  Downloading pyreadstat-1.1.9-cp39-cp39-win_amd64.whl (2.4 MB)\n",
      "     ---------------------------------------- 2.4/2.4 MB 259.0 kB/s eta 0:00:00\n",
      "Requirement already satisfied: pandas>=1.2.0 in c:\\users\\user\\appdata\\roaming\\python\\python39\\site-packages (from pyreadstat) (1.4.1)\n",
      "Requirement already satisfied: pytz>=2020.1 in c:\\users\\user\\appdata\\roaming\\python\\python39\\site-packages (from pandas>=1.2.0->pyreadstat) (2021.3)\n",
      "Requirement already satisfied: python-dateutil>=2.8.1 in c:\\anaconda\\lib\\site-packages (from pandas>=1.2.0->pyreadstat) (2.8.2)\n",
      "Requirement already satisfied: numpy>=1.18.5 in c:\\users\\user\\appdata\\roaming\\python\\python39\\site-packages (from pandas>=1.2.0->pyreadstat) (1.21.6)\n",
      "Requirement already satisfied: six>=1.5 in c:\\anaconda\\lib\\site-packages (from python-dateutil>=2.8.1->pandas>=1.2.0->pyreadstat) (1.16.0)\n",
      "Installing collected packages: pyreadstat\n",
      "Successfully installed pyreadstat-1.1.9\n"
     ]
    }
   ],
   "source": [
    "!pip install pyreadstat"
   ]
  },
  {
   "cell_type": "markdown",
   "id": "acc84dd9",
   "metadata": {},
   "source": [
    "### Часть 1"
   ]
  },
  {
   "cell_type": "code",
   "execution_count": 186,
   "id": "0a9b205e",
   "metadata": {},
   "outputs": [],
   "source": [
    "import pyreadstat\n",
    "from pandas.api.types import CategoricalDtype\n",
    "\n",
    "import warnings\n",
    "import numpy\n",
    "warnings.filterwarnings('ignore')"
   ]
  },
  {
   "cell_type": "code",
   "execution_count": 5,
   "id": "906cfde1",
   "metadata": {},
   "outputs": [],
   "source": [
    "df, meta = pyreadstat.read_sav(r'C:\\Users\\user\\Desktop\\Applied econometrics\\Homework\\Data\\r22iall_31.sav', apply_value_formats=True)"
   ]
  },
  {
   "cell_type": "code",
   "execution_count": 9,
   "id": "1221acb4",
   "metadata": {},
   "outputs": [],
   "source": [
    "path2work = r'C:\\Users\\user\\Desktop\\Applied econometrics\\Homework\\Data'\n",
    "df.describe().to_csv(path2work + '\\\\describe.csv')\n",
    "#df.describe().to_csv(path2work + '\\\\describe.excel')"
   ]
  },
  {
   "cell_type": "code",
   "execution_count": 144,
   "id": "8479fdab",
   "metadata": {},
   "outputs": [],
   "source": [
    "gender = {\n",
    "    'МУЖСКОЙ':0,\n",
    "    'ЖЕНСКИЙ':1\n",
    "}\n",
    "df.replace(gender, inplace=True)\n",
    "df.r_age = df.r_age.astype('int64')"
   ]
  },
  {
   "cell_type": "code",
   "execution_count": 145,
   "id": "23577c87",
   "metadata": {},
   "outputs": [],
   "source": [
    "df_work = df[((df.r_age <= 60) & (df.r_age >= 18) & (df.rh5 == 0)) | ((df.r_age <= 55) & (df.r_age >= 18) & (df.rh5 == 1))]"
   ]
  },
  {
   "cell_type": "code",
   "execution_count": 146,
   "id": "a4807a59",
   "metadata": {},
   "outputs": [
    {
     "data": {
      "text/plain": [
       "12308"
      ]
     },
     "execution_count": 146,
     "metadata": {},
     "output_type": "execute_result"
    }
   ],
   "source": [
    "len(df_work)"
   ]
  },
  {
   "cell_type": "code",
   "execution_count": 147,
   "id": "5cbd3f2c",
   "metadata": {},
   "outputs": [],
   "source": [
    "df_work.rj1.astype('str').unique()\n",
    "rest_work = {\n",
    "    'Вы сейчас работаете': 1, 'Или у Вас сейчас нет работы' : 0,\n",
    "       'Вы находитесь в отпуске декретном или по уходу за ребенком до 3-х лет':1,\n",
    "       'Вы находитесь в любом другом оплачиваемом отпуске':1,\n",
    "       'Вы находитесь в неоплачиваемом отпуске':1, 'ЗАТРУДНЯЮСЬ ОТВЕТИТЬ':1,\n",
    "       'ОТКАЗ ОТ ОТВЕТА':1\n",
    "}\n",
    "df_work['embl'] = df_work.rj1\n",
    "df_work['embl'] = df_work['embl'].replace(rest_work)"
   ]
  },
  {
   "cell_type": "code",
   "execution_count": 165,
   "id": "1294bd7a",
   "metadata": {},
   "outputs": [],
   "source": [
    "index_drop = df_work[(df_work.rj10 == 'ЗАТРУДНЯЮСЬ ОТВЕТИТЬ') | (df_work.rj10 == 'НЕТ ОТВЕТА') | \\\n",
    "                     (df_work.rj10 == 'ОТКАЗ ОТ ОТВЕТА')].index\n",
    "df_work.drop(index_drop, inplace=True)\n",
    "index_drop_nan = df_work.rj10[df_work.rj10.isna()].index\n",
    "df_work.drop(index_drop_nan, inplace=True)\n",
    "df_work.rj10 = df_work.rj10.astype('str').astype('float32')\n",
    "df_work['lwage'] = np.log1p(df_work.rj10)"
   ]
  },
  {
   "cell_type": "code",
   "execution_count": 213,
   "id": "0afe90ab",
   "metadata": {},
   "outputs": [],
   "source": [
    "index_drop = df_work[(df_work.rj60 == 'ЗАТРУДНЯЮСЬ ОТВЕТИТЬ') | (df_work.rj60 == 'НЕТ ОТВЕТА') | \\\n",
    "                     (df_work.rj60 == 'ОТКАЗ ОТ ОТВЕТА')].index\n",
    "df_work.drop(index_drop, inplace=True)\n",
    "index_drop_nan = df_work.rj60[df_work.rj60.isna()].index\n",
    "df_work.drop(index_drop_nan, inplace=True)\n",
    "df_work.rj60 = df_work.rj60.astype('str').astype('float32')\n",
    "df_work['lincome'] = np.log1p(df_work.rj60)"
   ]
  },
  {
   "cell_type": "code",
   "execution_count": 227,
   "id": "c420b2fc",
   "metadata": {},
   "outputs": [
    {
     "data": {
      "text/plain": [
       "['есть диплом о высшем образовании',\n",
       " '7-9 классов школы (незак. средн) + ПТУ без диплома',\n",
       " '10 и более классов школы и какое-либо професс. обр. с дипломом',\n",
       " 'среднее образование - есть аттестат о ср. образовании',\n",
       " '9 классов школы',\n",
       " '7-9 классов школы (незак. средн) + ПТУ с дипломом',\n",
       " '8 классов школы',\n",
       " '3 и более лет в высшем учебном заведении',\n",
       " 'техникум с дипломом',\n",
       " '1-2 года в высшем учебном заведении',\n",
       " 'аспирантура и т.п. без диплома',\n",
       " '10 и более классов школы и какое-либо професс. обр. без диплома',\n",
       " '10 и более классов школы и техникум без диплома',\n",
       " 'аспирантура и т.п. с дипломом',\n",
       " '10 и более классов школы без аттестата о среднем образовании',\n",
       " '7-9 классов школы (незак. среднее) и менее 2 лет в техникуме',\n",
       " '7 классов школы',\n",
       " '2 класса школы',\n",
       " '1 класс школы',\n",
       " '4 класса школы',\n",
       " '5 классов школы',\n",
       " 'НЕТ ОТВЕТА',\n",
       " '6 классов школы']"
      ]
     },
     "execution_count": 227,
     "metadata": {},
     "output_type": "execute_result"
    }
   ],
   "source": [
    "# index_drop = df_work[df_work.r_educ == 'НЕТ ОТВЕТА'].index\n",
    "# df_work.drop(index_drop, inplace=True)\n",
    "it = list(df_work.r_educ.unique())\n",
    "d = {}\n",
    "for name in it:\n",
    "    if name in 'высшем образовании':\n",
    "        d[name] = 2\n",
    "    elif name in set('техникум с дипломом', )"
   ]
  },
  {
   "cell_type": "code",
   "execution_count": 216,
   "id": "fb9405c8",
   "metadata": {},
   "outputs": [],
   "source": []
  },
  {
   "cell_type": "code",
   "execution_count": null,
   "id": "ec9ee496",
   "metadata": {},
   "outputs": [],
   "source": []
  },
  {
   "cell_type": "code",
   "execution_count": null,
   "id": "61cc476c",
   "metadata": {},
   "outputs": [],
   "source": []
  }
 ],
 "metadata": {
  "kernelspec": {
   "display_name": "Python 3 (ipykernel)",
   "language": "python",
   "name": "python3"
  },
  "language_info": {
   "codemirror_mode": {
    "name": "ipython",
    "version": 3
   },
   "file_extension": ".py",
   "mimetype": "text/x-python",
   "name": "python",
   "nbconvert_exporter": "python",
   "pygments_lexer": "ipython3",
   "version": "3.9.7"
  },
  "varInspector": {
   "cols": {
    "lenName": 16,
    "lenType": 16,
    "lenVar": 40
   },
   "kernels_config": {
    "python": {
     "delete_cmd_postfix": "",
     "delete_cmd_prefix": "del ",
     "library": "var_list.py",
     "varRefreshCmd": "print(var_dic_list())"
    },
    "r": {
     "delete_cmd_postfix": ") ",
     "delete_cmd_prefix": "rm(",
     "library": "var_list.r",
     "varRefreshCmd": "cat(var_dic_list()) "
    }
   },
   "types_to_exclude": [
    "module",
    "function",
    "builtin_function_or_method",
    "instance",
    "_Feature"
   ],
   "window_display": false
  }
 },
 "nbformat": 4,
 "nbformat_minor": 5
}
